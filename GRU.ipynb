{
  "nbformat": 4,
  "nbformat_minor": 0,
  "metadata": {
    "colab": {
      "name": "GRU.ipynb",
      "provenance": [],
      "collapsed_sections": [],
      "include_colab_link": true
    },
    "kernelspec": {
      "name": "python3",
      "display_name": "Python 3"
    },
    "language_info": {
      "name": "python"
    }
  },
  "cells": [
    {
      "cell_type": "markdown",
      "metadata": {
        "id": "view-in-github",
        "colab_type": "text"
      },
      "source": [
        "<a href=\"https://colab.research.google.com/github/bsp73/cayuga-capital/blob/main/GRU.ipynb\" target=\"_parent\"><img src=\"https://colab.research.google.com/assets/colab-badge.svg\" alt=\"Open In Colab\"/></a>"
      ]
    },
    {
      "cell_type": "markdown",
      "source": [
        "Source: https://www.kaggle.com/code/rodsaldanha/stock-prediction-pytorch/notebook"
      ],
      "metadata": {
        "id": "vnA_se5eJ1rW"
      }
    },
    {
      "cell_type": "code",
      "execution_count": 1,
      "metadata": {
        "id": "20O9YXciQrQf",
        "colab": {
          "base_uri": "https://localhost:8080/"
        },
        "outputId": "bf450f46-ac76-48fe-a7d1-d31bf9846b00"
      },
      "outputs": [
        {
          "output_type": "stream",
          "name": "stdout",
          "text": [
            "\u001b[?25l\r\u001b[K     |█████▏                          | 10 kB 20.8 MB/s eta 0:00:01\r\u001b[K     |██████████▍                     | 20 kB 21.6 MB/s eta 0:00:01\r\u001b[K     |███████████████▋                | 30 kB 24.9 MB/s eta 0:00:01\r\u001b[K     |████████████████████▉           | 40 kB 23.2 MB/s eta 0:00:01\r\u001b[K     |██████████████████████████      | 51 kB 6.5 MB/s eta 0:00:01\r\u001b[K     |███████████████████████████████▎| 61 kB 7.4 MB/s eta 0:00:01\r\u001b[K     |████████████████████████████████| 62 kB 578 kB/s \n",
            "\u001b[?25hLooking in indexes: https://pypi.org/simple, https://us-python.pkg.dev/colab-wheels/public/simple/\n",
            "Requirement already satisfied: torch in /usr/local/lib/python3.7/dist-packages (1.12.0+cu113)\n",
            "Requirement already satisfied: typing-extensions in /usr/local/lib/python3.7/dist-packages (from torch) (4.1.1)\n",
            "Looking in indexes: https://pypi.org/simple, https://us-python.pkg.dev/colab-wheels/public/simple/\n",
            "Requirement already satisfied: sklearn in /usr/local/lib/python3.7/dist-packages (0.0)\n",
            "Requirement already satisfied: scikit-learn in /usr/local/lib/python3.7/dist-packages (from sklearn) (1.0.2)\n",
            "Requirement already satisfied: scipy>=1.1.0 in /usr/local/lib/python3.7/dist-packages (from scikit-learn->sklearn) (1.7.3)\n",
            "Requirement already satisfied: joblib>=0.11 in /usr/local/lib/python3.7/dist-packages (from scikit-learn->sklearn) (1.1.0)\n",
            "Requirement already satisfied: numpy>=1.14.6 in /usr/local/lib/python3.7/dist-packages (from scikit-learn->sklearn) (1.21.6)\n",
            "Requirement already satisfied: threadpoolctl>=2.0.0 in /usr/local/lib/python3.7/dist-packages (from scikit-learn->sklearn) (3.1.0)\n",
            "\u001b[31mERROR: Invalid requirement: 'numpy,'\u001b[0m\n",
            "Looking in indexes: https://pypi.org/simple, https://us-python.pkg.dev/colab-wheels/public/simple/\n",
            "Collecting ta\n",
            "  Downloading ta-0.10.1.tar.gz (24 kB)\n",
            "Requirement already satisfied: numpy in /usr/local/lib/python3.7/dist-packages (from ta) (1.21.6)\n",
            "Requirement already satisfied: pandas in /usr/local/lib/python3.7/dist-packages (from ta) (1.3.5)\n",
            "Requirement already satisfied: python-dateutil>=2.7.3 in /usr/local/lib/python3.7/dist-packages (from pandas->ta) (2.8.2)\n",
            "Requirement already satisfied: pytz>=2017.3 in /usr/local/lib/python3.7/dist-packages (from pandas->ta) (2022.1)\n",
            "Requirement already satisfied: six>=1.5 in /usr/local/lib/python3.7/dist-packages (from python-dateutil>=2.7.3->pandas->ta) (1.15.0)\n",
            "Building wheels for collected packages: ta\n",
            "  Building wheel for ta (setup.py) ... \u001b[?25l\u001b[?25hdone\n",
            "  Created wheel for ta: filename=ta-0.10.1-py3-none-any.whl size=28985 sha256=6b00adde8dc53b7123e42b5b23031b4e2bce37d2fe5d5a3f8f32a1b140dd8fd7\n",
            "  Stored in directory: /root/.cache/pip/wheels/bc/2a/c2/a56e77d07edc16a1fa7fb012667e55cb0643cfa65996bddecc\n",
            "Successfully built ta\n",
            "Installing collected packages: ta\n",
            "Successfully installed ta-0.10.1\n"
          ]
        }
      ],
      "source": [
        "!pip install yfinance --quiet\n",
        "!pip install torch\n",
        "!pip install sklearn\n",
        "!pip install numpy, pandas --quiet\n",
        "!pip install ta"
      ]
    },
    {
      "cell_type": "code",
      "source": [
        "import pandas as pd\n",
        "import numpy as np\n",
        "import yfinance as yf"
      ],
      "metadata": {
        "id": "qe6EOVDP1UkJ"
      },
      "execution_count": 2,
      "outputs": []
    },
    {
      "cell_type": "code",
      "source": [
        "from ta.volatility import bollinger_hband_indicator, bollinger_lband_indicator, bollinger_wband, average_true_range\n",
        "from ta.momentum import rsi\n",
        "from ta.trend import macd_diff"
      ],
      "metadata": {
        "id": "VTCn4ZK9h67m"
      },
      "execution_count": 3,
      "outputs": []
    },
    {
      "cell_type": "code",
      "source": [
        "sp = yf.Ticker(\"SPY\")\n",
        "data = sp.history(start=\"2020-03-30\", end=\"2022-04-24\")\n",
        "data = data[['Close','Open','High','Low','Volume']]"
      ],
      "metadata": {
        "id": "HpdizZxknSqy"
      },
      "execution_count": 4,
      "outputs": []
    },
    {
      "cell_type": "code",
      "source": [
        "close = data['Close']\n",
        "\n",
        "# EMAs\n",
        "data['ema20'] = close.ewm(span = 20, adjust = False).mean()\n",
        "data['ema50'] = close.ewm(span = 50, adjust = False).mean()\n",
        "data['ema200'] = close.ewm(span = 200, adjust = False).mean()\n",
        "\n",
        "# 1st and 2nd differences\n",
        "data['First Diff'] = close.diff()\n",
        "data['Second Diff'] = data['First Diff'].diff()\n",
        "\n",
        "# Bollinger Band indicators and widths\n",
        "data['BBand H 1hot'] = bollinger_hband_indicator(close)\n",
        "data['BBand L 1hot'] = bollinger_lband_indicator(close)\n",
        "data['BBand Channel Width'] = bollinger_wband(close) # equal to 4 times the standard deviation, a measure of volatility\n",
        "\n",
        "# other indicators\n",
        "data['RSI'] = rsi(close)\n",
        "data['MACD Diff'] = macd_diff(close)\n",
        "data['Day of Week'] = [x.dayofweek for x in data.index.tolist()]"
      ],
      "metadata": {
        "id": "FMMxCX8sh0P3"
      },
      "execution_count": 5,
      "outputs": []
    },
    {
      "cell_type": "code",
      "source": [
        "data = data.reset_index(drop=True)"
      ],
      "metadata": {
        "id": "C_6cZYLXldi0"
      },
      "execution_count": 6,
      "outputs": []
    },
    {
      "cell_type": "code",
      "source": [
        "data.apply(pd.Series.first_valid_index)"
      ],
      "metadata": {
        "id": "1XS2W_MGjIyy",
        "colab": {
          "base_uri": "https://localhost:8080/"
        },
        "outputId": "40c8f819-fdec-4e2b-baf7-941e91092bc5"
      },
      "execution_count": 7,
      "outputs": [
        {
          "output_type": "execute_result",
          "data": {
            "text/plain": [
              "Close                   0\n",
              "Open                    0\n",
              "High                    0\n",
              "Low                     0\n",
              "Volume                  0\n",
              "ema20                   0\n",
              "ema50                   0\n",
              "ema200                  0\n",
              "First Diff              1\n",
              "Second Diff             2\n",
              "BBand H 1hot            0\n",
              "BBand L 1hot            0\n",
              "BBand Channel Width    19\n",
              "RSI                    13\n",
              "MACD Diff              33\n",
              "Day of Week             0\n",
              "dtype: int64"
            ]
          },
          "metadata": {},
          "execution_count": 7
        }
      ]
    },
    {
      "cell_type": "code",
      "source": [
        "data = data.iloc[33:]"
      ],
      "metadata": {
        "id": "4ksDEwAWlGDN"
      },
      "execution_count": 8,
      "outputs": []
    },
    {
      "cell_type": "code",
      "source": [
        "data.dtypes"
      ],
      "metadata": {
        "colab": {
          "base_uri": "https://localhost:8080/"
        },
        "id": "zJtJDCYHmDW3",
        "outputId": "7e8f7569-649b-4cf7-e64f-579417c56205"
      },
      "execution_count": null,
      "outputs": [
        {
          "output_type": "execute_result",
          "data": {
            "text/plain": [
              "Close                  float64\n",
              "Open                   float64\n",
              "High                   float64\n",
              "Low                    float64\n",
              "Volume                   int64\n",
              "ema20                  float64\n",
              "ema50                  float64\n",
              "ema200                 float64\n",
              "First Diff             float64\n",
              "Second Diff            float64\n",
              "BBand H 1hot           float64\n",
              "BBand L 1hot           float64\n",
              "BBand Channel Width    float64\n",
              "RSI                    float64\n",
              "MACD Diff              float64\n",
              "Day of Week              int64\n",
              "dtype: object"
            ]
          },
          "metadata": {},
          "execution_count": 9
        }
      ]
    },
    {
      "cell_type": "code",
      "source": [
        "from sklearn.preprocessing import MinMaxScaler\n",
        "scaler = MinMaxScaler(feature_range=(-1, 1))\n",
        "data = scaler.fit_transform(data)\n",
        "close = scaler.fit_transform(np.array(close).reshape(-1,1))"
      ],
      "metadata": {
        "id": "gtGFCeeCjGHl"
      },
      "execution_count": 9,
      "outputs": []
    },
    {
      "cell_type": "code",
      "source": [
        "def split_data_og(stock, lookback):\n",
        "    data = []\n",
        "    # create all possible sequences of length seq_len\n",
        "    for index in range(len(stock) - lookback): \n",
        "        data.append(stock[index : index + lookback])\n",
        "    \n",
        "    data = np.array(data);\n",
        "    test_set_size = int(np.round(0.2*data.shape[0]));\n",
        "    train_set_size = data.shape[0] - (test_set_size);\n",
        "    \n",
        "    x_train = data[:train_set_size,:-1,:]\n",
        "    y_train = data[:train_set_size,-1,:]\n",
        "    x_test = data[train_set_size:,:-1]\n",
        "    y_test = data[train_set_size:,-1,:]\n",
        "    \n",
        "    return x_train, y_train, x_test, y_test\n",
        "lookback = 20 # choose sequence length\n",
        "x_train, y_train, x_test, y_test = split_data_og(data, lookback)"
      ],
      "metadata": {
        "id": "ucQ5CSSbkbsf"
      },
      "execution_count": 10,
      "outputs": []
    },
    {
      "cell_type": "code",
      "source": [
        "def split_data(stock, lookback):\n",
        "    data = []\n",
        "    # create all possible sequences of length seq_len\n",
        "    for index in range(len(stock) - lookback): \n",
        "        data.append(stock[index : index + lookback].flatten(order='F').reshape(-1,1))\n",
        "    \n",
        "    data = np.array(data);\n",
        "    print(data.shape)\n",
        "    test_set_size = int(np.round(0.2*data.shape[0]))\n",
        "    train_set_size = data.shape[0] - (test_set_size)\n",
        "\n",
        "    cols = stock.shape[1]*lookback\n",
        "    ind_of_current = list(range(-1, cols, lookback))[1:]\n",
        "    ind_of_past = list(set(range(0,cols)) - set(ind_of_current))\n",
        "\n",
        "    x_train = data[:train_set_size,ind_of_past,:]\n",
        "    y_train = data[:train_set_size,ind_of_current[0],:]\n",
        "    x_test = data[train_set_size:,ind_of_past]\n",
        "    y_test = data[train_set_size:,ind_of_current[0],:]\n",
        "    \n",
        "    return x_train, y_train, x_test, y_test\n",
        "lookback = 5 # choose sequence length\n",
        "x_train, y_train, x_test, y_test = split_data(data, lookback)"
      ],
      "metadata": {
        "id": "NywXi-DHBDyN"
      },
      "execution_count": null,
      "outputs": []
    },
    {
      "cell_type": "code",
      "source": [
        "import torch\n",
        "import torch.nn as nn\n",
        "\n",
        "x_train = torch.from_numpy(x_train).type(torch.Tensor)\n",
        "x_test = torch.from_numpy(x_test).type(torch.Tensor)\n",
        "y_train_gru = torch.from_numpy(y_train).type(torch.Tensor)\n",
        "y_test_gru = torch.from_numpy(y_test).type(torch.Tensor)"
      ],
      "metadata": {
        "id": "Ii-iVhVOCrT6"
      },
      "execution_count": null,
      "outputs": []
    },
    {
      "cell_type": "code",
      "source": [
        "input_dim = 1\n",
        "hidden_dim = 32\n",
        "num_layers = 5\n",
        "output_dim = 1\n",
        "num_epochs = 150"
      ],
      "metadata": {
        "id": "Q5tUnkRsCzya"
      },
      "execution_count": null,
      "outputs": []
    },
    {
      "cell_type": "code",
      "source": [
        "class GRU(nn.Module):\n",
        "    def __init__(self, input_dim, hidden_dim, num_layers, output_dim):\n",
        "        super(GRU, self).__init__()\n",
        "        self.hidden_dim = hidden_dim\n",
        "        self.num_layers = num_layers\n",
        "        \n",
        "        self.gru = nn.GRU(input_dim, hidden_dim, num_layers, batch_first=True)\n",
        "        self.fc = nn.Linear(hidden_dim, output_dim)\n",
        "\n",
        "    def forward(self, x):\n",
        "        h0 = torch.zeros(self.num_layers, x.size(0), self.hidden_dim).requires_grad_()\n",
        "        out, (hn) = self.gru(x, (h0.detach()))\n",
        "        out = self.fc(out[:, -1, :]) \n",
        "        return out"
      ],
      "metadata": {
        "id": "AebQNhRpD0Jy"
      },
      "execution_count": null,
      "outputs": []
    },
    {
      "cell_type": "code",
      "source": [
        "model = GRU(input_dim=input_dim, hidden_dim=hidden_dim, output_dim=output_dim, num_layers=num_layers)\n",
        "criterion = torch.nn.MSELoss(reduction='mean')\n",
        "optimiser = torch.optim.Adam(model.parameters(), lr=0.01)"
      ],
      "metadata": {
        "id": "h0b29Gs6D_vm"
      },
      "execution_count": null,
      "outputs": []
    },
    {
      "cell_type": "code",
      "source": [
        "y_test.shape"
      ],
      "metadata": {
        "colab": {
          "base_uri": "https://localhost:8080/"
        },
        "id": "yGQmcHgircU9",
        "outputId": "8b6c06d8-ca54-4458-9b76-eac432615a48"
      },
      "execution_count": null,
      "outputs": [
        {
          "output_type": "execute_result",
          "data": {
            "text/plain": [
              "(97, 1)"
            ]
          },
          "metadata": {},
          "execution_count": 17
        }
      ]
    },
    {
      "cell_type": "code",
      "source": [
        "import time\n",
        "\n",
        "hist = np.zeros(num_epochs)\n",
        "start_time = time.time()\n",
        "gru = []\n",
        "\n",
        "\n",
        "for t in range(num_epochs):\n",
        "    y_train_pred = model(x_train)\n",
        "\n",
        "    loss = criterion(y_train_pred, y_train_gru)\n",
        "    print(\"Epoch \", t, \"MSE: \", loss.item())\n",
        "    hist[t] = loss.item()\n",
        "\n",
        "    optimiser.zero_grad()\n",
        "    loss.backward()\n",
        "    optimiser.step()\n",
        "\n",
        "training_time = time.time()-start_time    \n",
        "print(\"Training time: {}\".format(training_time))"
      ],
      "metadata": {
        "id": "z3kGoMNnEIjm"
      },
      "execution_count": null,
      "outputs": []
    },
    {
      "cell_type": "code",
      "source": [
        "import time\n",
        "\n",
        "hist = np.zeros(num_epochs)\n",
        "start_time = time.time()\n",
        "gru = []\n",
        "final = np.zeros((97,1))\n",
        "\n",
        "for i in range(10):\n",
        "    model = GRU(input_dim=input_dim, hidden_dim=hidden_dim, output_dim=output_dim, num_layers=num_layers)\n",
        "    criterion = torch.nn.MSELoss(reduction='mean')\n",
        "    optimiser = torch.optim.Adam(model.parameters(), lr=0.01)\n",
        "    y_train_pred = None\n",
        "    for t in range(num_epochs):\n",
        "        y_train_pred = model(x_train)\n",
        "\n",
        "        loss = criterion(y_train_pred, y_train_gru)\n",
        "        hist[t] = loss.item()\n",
        "\n",
        "        optimiser.zero_grad()\n",
        "        loss.backward()\n",
        "        optimiser.step()\n",
        "    print(\"Iteration \", i, \"MSE: \", loss.item())\n",
        "    y_test_pred = model(x_test)\n",
        "    final += scaler.inverse_transform(y_test_pred.detach().numpy())\n",
        "\n",
        "final = final/10\n",
        "\n",
        "training_time = time.time()-start_time    \n",
        "print(\"Training time: {}\".format(training_time))"
      ],
      "metadata": {
        "colab": {
          "base_uri": "https://localhost:8080/"
        },
        "id": "A9oo8p46rsxj",
        "outputId": "364b5588-c0c0-47ff-bca8-41dd46c2211a"
      },
      "execution_count": null,
      "outputs": [
        {
          "output_type": "stream",
          "name": "stdout",
          "text": [
            "Iteration  0 MSE:  0.001927918754518032\n",
            "Iteration  1 MSE:  0.0017386933322995901\n",
            "Iteration  2 MSE:  0.00201419903896749\n",
            "Iteration  3 MSE:  0.002172884065657854\n",
            "Iteration  4 MSE:  0.0019326539477333426\n",
            "Iteration  5 MSE:  0.002437981776893139\n",
            "Iteration  6 MSE:  0.01790069043636322\n",
            "Iteration  7 MSE:  0.0019493545405566692\n",
            "Iteration  8 MSE:  0.0017036242643371224\n",
            "Iteration  9 MSE:  0.0017161649884656072\n",
            "Training time: 446.27587699890137\n"
          ]
        }
      ]
    },
    {
      "cell_type": "code",
      "source": [
        "predict = scaler.inverse_transform(y_train_pred.detach().numpy())\n",
        "original = scaler.inverse_transform(y_train_gru.detach().numpy())"
      ],
      "metadata": {
        "id": "DxlnTbTzFOZY"
      },
      "execution_count": null,
      "outputs": []
    },
    {
      "cell_type": "code",
      "source": [
        "def MSE(y, pred):\n",
        "  return np.mean((y - pred)**2)"
      ],
      "metadata": {
        "id": "gJbZx-xsGrr-"
      },
      "execution_count": null,
      "outputs": []
    },
    {
      "cell_type": "code",
      "source": [
        "MSE(predict, original)"
      ],
      "metadata": {
        "colab": {
          "base_uri": "https://localhost:8080/"
        },
        "id": "loJDotzYG7qX",
        "outputId": "af0c0150-aff2-43e3-f8b8-8e400e9170a9"
      },
      "execution_count": null,
      "outputs": [
        {
          "output_type": "execute_result",
          "data": {
            "text/plain": [
              "24.121647"
            ]
          },
          "metadata": {},
          "execution_count": 30
        }
      ]
    },
    {
      "cell_type": "code",
      "source": [
        "y_test_pred = model(x_test)\n",
        "\n",
        "# invert predictions\n",
        "y_test_pred = scaler.inverse_transform(y_test_pred.detach().numpy())\n",
        "y_test = scaler.inverse_transform(y_test_gru.detach().numpy())"
      ],
      "metadata": {
        "id": "Pwqf2CJwKDAN"
      },
      "execution_count": null,
      "outputs": []
    },
    {
      "cell_type": "code",
      "source": [
        "MSE(y_test, final)"
      ],
      "metadata": {
        "colab": {
          "base_uri": "https://localhost:8080/"
        },
        "id": "GCfgn9pgK25u",
        "outputId": "a2bea6c8-bcad-4901-9dd0-1f0d1c8e691f"
      },
      "execution_count": null,
      "outputs": [
        {
          "output_type": "execute_result",
          "data": {
            "text/plain": [
              "102.07587067894326"
            ]
          },
          "metadata": {},
          "execution_count": 32
        }
      ]
    },
    {
      "cell_type": "code",
      "source": [
        "import matplotlib.pyplot as plt"
      ],
      "metadata": {
        "id": "99rP_OoTLXVR"
      },
      "execution_count": null,
      "outputs": []
    },
    {
      "cell_type": "code",
      "source": [
        "y_test = scaler.inverse_transform(y_test_gru.detach().numpy())\n",
        "plt.plot(y_test)\n",
        "plt.plot(final)"
      ],
      "metadata": {
        "colab": {
          "base_uri": "https://localhost:8080/",
          "height": 283
        },
        "id": "Wpm7SYMtLj8v",
        "outputId": "90ed6cd8-8998-4f3d-f004-d893d845fd6d"
      },
      "execution_count": null,
      "outputs": [
        {
          "output_type": "execute_result",
          "data": {
            "text/plain": [
              "[<matplotlib.lines.Line2D at 0x7f4311f48990>]"
            ]
          },
          "metadata": {},
          "execution_count": 34
        },
        {
          "output_type": "display_data",
          "data": {
            "text/plain": [
              "<Figure size 432x288 with 1 Axes>"
            ],
            "image/png": "[encoded data removed]"
          },
          "metadata": {
            "needs_background": "light"
          }
        }
      ]
    },
    {
      "cell_type": "code",
      "source": [
        "plt.plot(predict)\n",
        "plt.plot(original)"
      ],
      "metadata": {
        "colab": {
          "base_uri": "https://localhost:8080/",
          "height": 283
        },
        "id": "xF7mOtu0KR7c",
        "outputId": "e2c9e529-4869-4468-9aea-f4f27a0b206c"
      },
      "execution_count": null,
      "outputs": [
        {
          "output_type": "execute_result",
          "data": {
            "text/plain": [
              "[<matplotlib.lines.Line2D at 0x7f4311ec0e50>]"
            ]
          },
          "metadata": {},
          "execution_count": 35
        },
        {
          "output_type": "display_data",
          "data": {
            "text/plain": [
              "<Figure size 432x288 with 1 Axes>"
            ],
            "image/png": "[encoded data removed]"
          },
          "metadata": {
            "needs_background": "light"
          }
        }
      ]
    }
  ]
}