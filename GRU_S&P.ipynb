{
  "nbformat": 4,
  "nbformat_minor": 0,
  "metadata": {
    "colab": {
      "provenance": [],
      "collapsed_sections": [],
      "include_colab_link": true
    },
    "kernelspec": {
      "name": "python3",
      "display_name": "Python 3"
    },
    "language_info": {
      "name": "python"
    }
  },
  "cells": [
    {
      "cell_type": "markdown",
      "metadata": {
        "id": "view-in-github",
        "colab_type": "text"
      },
      "source": [
        "<a href=\"https://colab.research.google.com/github/bsp73/cayuga-capital/blob/main/GRU_S%26P.ipynb\" target=\"_parent\"><img src=\"https://colab.research.google.com/assets/colab-badge.svg\" alt=\"Open In Colab\"/></a>"
      ]
    },
    {
      "cell_type": "markdown",
      "source": [
        "Source: https://www.kaggle.com/code/rodsaldanha/stock-prediction-pytorch/notebook"
      ],
      "metadata": {
        "id": "vnA_se5eJ1rW"
      }
    },
    {
      "cell_type": "code",
      "execution_count": null,
      "metadata": {
        "id": "20O9YXciQrQf",
        "colab": {
          "base_uri": "https://localhost:8080/"
        },
        "outputId": "e19db3cb-dbe7-4f9e-9461-28be47459290"
      },
      "outputs": [
        {
          "output_type": "stream",
          "name": "stdout",
          "text": [
            "\u001b[?25l\r\u001b[K     |█████▏                          | 10 kB 22.3 MB/s eta 0:00:01\r\u001b[K     |██████████▍                     | 20 kB 27.9 MB/s eta 0:00:01\r\u001b[K     |███████████████▋                | 30 kB 32.9 MB/s eta 0:00:01\r\u001b[K     |████████████████████▉           | 40 kB 37.5 MB/s eta 0:00:01\r\u001b[K     |██████████████████████████      | 51 kB 10.3 MB/s eta 0:00:01\r\u001b[K     |███████████████████████████████▎| 61 kB 11.9 MB/s eta 0:00:01\r\u001b[K     |████████████████████████████████| 62 kB 1.4 MB/s \n",
            "\u001b[?25hLooking in indexes: https://pypi.org/simple, https://us-python.pkg.dev/colab-wheels/public/simple/\n",
            "Requirement already satisfied: torch in /usr/local/lib/python3.7/dist-packages (1.12.1+cu113)\n",
            "Requirement already satisfied: typing-extensions in /usr/local/lib/python3.7/dist-packages (from torch) (4.1.1)\n",
            "Looking in indexes: https://pypi.org/simple, https://us-python.pkg.dev/colab-wheels/public/simple/\n",
            "Collecting sklearn\n",
            "  Downloading sklearn-0.0.tar.gz (1.1 kB)\n",
            "Requirement already satisfied: scikit-learn in /usr/local/lib/python3.7/dist-packages (from sklearn) (1.0.2)\n",
            "Requirement already satisfied: joblib>=0.11 in /usr/local/lib/python3.7/dist-packages (from scikit-learn->sklearn) (1.1.0)\n",
            "Requirement already satisfied: numpy>=1.14.6 in /usr/local/lib/python3.7/dist-packages (from scikit-learn->sklearn) (1.21.6)\n",
            "Requirement already satisfied: scipy>=1.1.0 in /usr/local/lib/python3.7/dist-packages (from scikit-learn->sklearn) (1.7.3)\n",
            "Requirement already satisfied: threadpoolctl>=2.0.0 in /usr/local/lib/python3.7/dist-packages (from scikit-learn->sklearn) (3.1.0)\n",
            "Building wheels for collected packages: sklearn\n",
            "  Building wheel for sklearn (setup.py) ... \u001b[?25l\u001b[?25hdone\n",
            "  Created wheel for sklearn: filename=sklearn-0.0-py2.py3-none-any.whl size=1310 sha256=a1b6486ac4d9bc13e29323c719213b928052de4d6549e3ff2a3d70ef2cf7515b\n",
            "  Stored in directory: /root/.cache/pip/wheels/46/ef/c3/157e41f5ee1372d1be90b09f74f82b10e391eaacca8f22d33e\n",
            "Successfully built sklearn\n",
            "Installing collected packages: sklearn\n",
            "Successfully installed sklearn-0.0\n",
            "\u001b[31mERROR: Invalid requirement: 'numpy,'\u001b[0m\n",
            "Looking in indexes: https://pypi.org/simple, https://us-python.pkg.dev/colab-wheels/public/simple/\n",
            "Collecting ta\n",
            "  Downloading ta-0.10.2.tar.gz (25 kB)\n",
            "Requirement already satisfied: numpy in /usr/local/lib/python3.7/dist-packages (from ta) (1.21.6)\n",
            "Requirement already satisfied: pandas in /usr/local/lib/python3.7/dist-packages (from ta) (1.3.5)\n",
            "Requirement already satisfied: python-dateutil>=2.7.3 in /usr/local/lib/python3.7/dist-packages (from pandas->ta) (2.8.2)\n",
            "Requirement already satisfied: pytz>=2017.3 in /usr/local/lib/python3.7/dist-packages (from pandas->ta) (2022.2.1)\n",
            "Requirement already satisfied: six>=1.5 in /usr/local/lib/python3.7/dist-packages (from python-dateutil>=2.7.3->pandas->ta) (1.15.0)\n",
            "Building wheels for collected packages: ta\n",
            "  Building wheel for ta (setup.py) ... \u001b[?25l\u001b[?25hdone\n",
            "  Created wheel for ta: filename=ta-0.10.2-py3-none-any.whl size=29104 sha256=90e9a1d59808af2e113af2cb0f91794637f67a3fd6eb588491a8385d405eba8f\n",
            "  Stored in directory: /root/.cache/pip/wheels/31/31/f1/f2ff471bbc5b84a4b973698ceecdd453ae043971791adc3431\n",
            "Successfully built ta\n",
            "Installing collected packages: ta\n",
            "Successfully installed ta-0.10.2\n"
          ]
        }
      ],
      "source": [
        "!pip install yfinance --quiet\n",
        "!pip install torch\n",
        "!pip install sklearn\n",
        "!pip install numpy, pandas --quiet\n",
        "!pip install ta"
      ]
    },
    {
      "cell_type": "code",
      "source": [
        "import pandas as pd\n",
        "import numpy as np\n",
        "import yfinance as yf"
      ],
      "metadata": {
        "id": "qe6EOVDP1UkJ"
      },
      "execution_count": null,
      "outputs": []
    },
    {
      "cell_type": "code",
      "source": [
        "from ta.volatility import bollinger_hband_indicator, bollinger_lband_indicator, bollinger_wband, average_true_range\n",
        "from ta.momentum import rsi\n",
        "from ta.trend import macd_diff"
      ],
      "metadata": {
        "id": "VTCn4ZK9h67m"
      },
      "execution_count": null,
      "outputs": []
    },
    {
      "cell_type": "code",
      "source": [
        "sp = yf.Ticker(\"SPY\")\n",
        "data = sp.history(start=\"2020-03-30\", end=\"2022-04-24\")\n",
        "data = data[['Close','Open','High','Low','Volume']]"
      ],
      "metadata": {
        "id": "HpdizZxknSqy"
      },
      "execution_count": null,
      "outputs": []
    },
    {
      "cell_type": "code",
      "source": [
        "close = data['Close']\n",
        "\n",
        "# EMAs\n",
        "data['ema20'] = close.ewm(span = 20, adjust = False).mean()\n",
        "data['ema50'] = close.ewm(span = 50, adjust = False).mean()\n",
        "data['ema200'] = close.ewm(span = 200, adjust = False).mean()\n",
        "\n",
        "# 1st and 2nd differences\n",
        "data['First Diff'] = close.diff()\n",
        "data['Second Diff'] = data['First Diff'].diff()\n",
        "\n",
        "# Bollinger Band indicators and widths\n",
        "data['BBand H 1hot'] = bollinger_hband_indicator(close)\n",
        "data['BBand L 1hot'] = bollinger_lband_indicator(close)\n",
        "data['BBand Channel Width'] = bollinger_wband(close) # equal to 4 times the standard deviation, a measure of volatility\n",
        "\n",
        "# other indicators\n",
        "data['RSI'] = rsi(close)\n",
        "data['MACD Diff'] = macd_diff(close)\n",
        "data['Day of Week'] = [x.dayofweek for x in data.index.tolist()]"
      ],
      "metadata": {
        "id": "FMMxCX8sh0P3"
      },
      "execution_count": null,
      "outputs": []
    },
    {
      "cell_type": "code",
      "source": [
        "data = data.reset_index(drop=True)"
      ],
      "metadata": {
        "id": "C_6cZYLXldi0"
      },
      "execution_count": null,
      "outputs": []
    },
    {
      "cell_type": "code",
      "source": [
        "data.apply(pd.Series.first_valid_index)"
      ],
      "metadata": {
        "id": "1XS2W_MGjIyy",
        "colab": {
          "base_uri": "https://localhost:8080/"
        },
        "outputId": "358b8113-081c-4d60-8d0d-36a92c929919"
      },
      "execution_count": null,
      "outputs": [
        {
          "output_type": "execute_result",
          "data": {
            "text/plain": [
              "Close                   0\n",
              "Open                    0\n",
              "High                    0\n",
              "Low                     0\n",
              "Volume                  0\n",
              "ema20                   0\n",
              "ema50                   0\n",
              "ema200                  0\n",
              "First Diff              1\n",
              "Second Diff             2\n",
              "BBand H 1hot            0\n",
              "BBand L 1hot            0\n",
              "BBand Channel Width    19\n",
              "RSI                    13\n",
              "MACD Diff              33\n",
              "Day of Week             0\n",
              "dtype: int64"
            ]
          },
          "metadata": {},
          "execution_count": 9
        }
      ]
    },
    {
      "cell_type": "code",
      "source": [
        "data = data.iloc[33:]"
      ],
      "metadata": {
        "id": "4ksDEwAWlGDN"
      },
      "execution_count": null,
      "outputs": []
    },
    {
      "cell_type": "code",
      "source": [
        "data.dtypes"
      ],
      "metadata": {
        "colab": {
          "base_uri": "https://localhost:8080/"
        },
        "id": "zJtJDCYHmDW3",
        "outputId": "522a081b-a8f7-43a3-8181-4c91355da256"
      },
      "execution_count": null,
      "outputs": [
        {
          "output_type": "execute_result",
          "data": {
            "text/plain": [
              "Close                  float64\n",
              "Open                   float64\n",
              "High                   float64\n",
              "Low                    float64\n",
              "Volume                   int64\n",
              "ema20                  float64\n",
              "ema50                  float64\n",
              "ema200                 float64\n",
              "First Diff             float64\n",
              "Second Diff            float64\n",
              "BBand H 1hot           float64\n",
              "BBand L 1hot           float64\n",
              "BBand Channel Width    float64\n",
              "RSI                    float64\n",
              "MACD Diff              float64\n",
              "Day of Week              int64\n",
              "dtype: object"
            ]
          },
          "metadata": {},
          "execution_count": 11
        }
      ]
    },
    {
      "cell_type": "code",
      "source": [
        "from sklearn.preprocessing import MinMaxScaler\n",
        "scaler = MinMaxScaler(feature_range=(-1, 1))\n",
        "data = scaler.fit_transform(data)\n",
        "close = scaler.fit_transform(np.array(close).reshape(-1,1))"
      ],
      "metadata": {
        "id": "gtGFCeeCjGHl"
      },
      "execution_count": null,
      "outputs": []
    },
    {
      "cell_type": "code",
      "source": [
        "def split_data_og(stock, lookback):\n",
        "    data = []\n",
        "    # create all possible sequences of length seq_len\n",
        "    for index in range(len(stock) - lookback): \n",
        "        data.append(stock[index : index + lookback])\n",
        "    \n",
        "    data = np.array(data);\n",
        "    test_set_size = int(np.round(0.2*data.shape[0]));\n",
        "    train_set_size = data.shape[0] - (test_set_size);\n",
        "    \n",
        "    x_train = data[:train_set_size,:-1,:]\n",
        "    y_train = data[:train_set_size,-1,:]\n",
        "    x_test = data[train_set_size:,:-1]\n",
        "    y_test = data[train_set_size:,-1,:]\n",
        "    \n",
        "    return x_train, y_train, x_test, y_test\n",
        "lookback = 20 # choose sequence length\n",
        "x_train, y_train, x_test, y_test = split_data_og(data, lookback)"
      ],
      "metadata": {
        "id": "ucQ5CSSbkbsf"
      },
      "execution_count": null,
      "outputs": []
    },
    {
      "cell_type": "code",
      "source": [
        "def split_data(stock, lookback):\n",
        "    data = []\n",
        "    # create all possible sequences of length seq_len\n",
        "    for index in range(len(stock) - lookback): \n",
        "        data.append(stock[index : index + lookback].flatten(order='F').reshape(-1,1))\n",
        "    \n",
        "    data = np.array(data);\n",
        "    print(data.shape)\n",
        "    test_set_size = int(np.round(0.2*data.shape[0]))\n",
        "    train_set_size = data.shape[0] - (test_set_size)\n",
        "\n",
        "    cols = stock.shape[1]*lookback\n",
        "    ind_of_current = list(range(-1, cols, lookback))[1:]\n",
        "    ind_of_past = list(set(range(0,cols)) - set(ind_of_current))\n",
        "\n",
        "    x_train = data[:train_set_size,ind_of_past,:]\n",
        "    y_train = data[:train_set_size,ind_of_current[0],:]\n",
        "    x_test = data[train_set_size:,ind_of_past]\n",
        "    y_test = data[train_set_size:,ind_of_current[0],:]\n",
        "    \n",
        "    return x_train, y_train, x_test, y_test\n",
        "lookback = 5 # choose sequence length\n",
        "x_train, y_train, x_test, y_test = split_data(data, lookback)"
      ],
      "metadata": {
        "id": "NywXi-DHBDyN",
        "outputId": "e911be2d-706c-4396-bbf9-b6cb2f4dad90",
        "colab": {
          "base_uri": "https://localhost:8080/"
        }
      },
      "execution_count": null,
      "outputs": [
        {
          "output_type": "stream",
          "name": "stdout",
          "text": [
            "(484, 80, 1)\n"
          ]
        }
      ]
    },
    {
      "cell_type": "code",
      "source": [
        "import torch\n",
        "import torch.nn as nn\n",
        "\n",
        "x_train = torch.from_numpy(x_train).type(torch.Tensor)\n",
        "x_test = torch.from_numpy(x_test).type(torch.Tensor)\n",
        "y_train_gru = torch.from_numpy(y_train).type(torch.Tensor)\n",
        "y_test_gru = torch.from_numpy(y_test).type(torch.Tensor)"
      ],
      "metadata": {
        "id": "Ii-iVhVOCrT6"
      },
      "execution_count": null,
      "outputs": []
    },
    {
      "cell_type": "code",
      "source": [
        "input_dim = 1\n",
        "hidden_dim = 32\n",
        "num_layers = 5\n",
        "output_dim = 1\n",
        "num_epochs = 150"
      ],
      "metadata": {
        "id": "Q5tUnkRsCzya"
      },
      "execution_count": null,
      "outputs": []
    },
    {
      "cell_type": "code",
      "source": [
        "class GRU(nn.Module):\n",
        "    def __init__(self, input_dim, hidden_dim, num_layers, output_dim):\n",
        "        super(GRU, self).__init__()\n",
        "        self.hidden_dim = hidden_dim\n",
        "        self.num_layers = num_layers\n",
        "        \n",
        "        self.gru = nn.GRU(input_dim, hidden_dim, num_layers, batch_first=True)\n",
        "        self.fc = nn.Linear(hidden_dim, output_dim)\n",
        "\n",
        "    def forward(self, x):\n",
        "        h0 = torch.zeros(self.num_layers, x.size(0), self.hidden_dim).requires_grad_()\n",
        "        out, (hn) = self.gru(x, (h0.detach()))\n",
        "        out = self.fc(out[:, -1, :]) \n",
        "        return out"
      ],
      "metadata": {
        "id": "AebQNhRpD0Jy"
      },
      "execution_count": null,
      "outputs": []
    },
    {
      "cell_type": "code",
      "source": [
        "model = GRU(input_dim=input_dim, hidden_dim=hidden_dim, output_dim=output_dim, num_layers=num_layers)\n",
        "criterion = torch.nn.MSELoss(reduction='mean')\n",
        "optimiser = torch.optim.Adam(model.parameters(), lr=0.01)"
      ],
      "metadata": {
        "id": "h0b29Gs6D_vm"
      },
      "execution_count": null,
      "outputs": []
    },
    {
      "cell_type": "code",
      "source": [
        "y_test.shape"
      ],
      "metadata": {
        "colab": {
          "base_uri": "https://localhost:8080/"
        },
        "id": "yGQmcHgircU9",
        "outputId": "161ea9fa-61d3-4b96-d6bf-3110ffd8f90d"
      },
      "execution_count": null,
      "outputs": [
        {
          "output_type": "execute_result",
          "data": {
            "text/plain": [
              "(97, 1)"
            ]
          },
          "metadata": {},
          "execution_count": 18
        }
      ]
    },
    {
      "cell_type": "code",
      "source": [
        "import time\n",
        "\n",
        "hist = np.zeros(num_epochs)\n",
        "start_time = time.time()\n",
        "gru = []\n",
        "\n",
        "\n",
        "for t in range(num_epochs):\n",
        "    y_train_pred = model(x_train)\n",
        "\n",
        "    loss = criterion(y_train_pred, y_train_gru)\n",
        "    print(\"Epoch \", t, \"MSE: \", loss.item())\n",
        "    hist[t] = loss.item()\n",
        "\n",
        "    optimiser.zero_grad()\n",
        "    loss.backward()\n",
        "    optimiser.step()\n",
        "\n",
        "training_time = time.time()-start_time    \n",
        "print(\"Training time: {}\".format(training_time))"
      ],
      "metadata": {
        "id": "z3kGoMNnEIjm",
        "outputId": "d6056e72-c259-4522-cd37-0548041c1c13",
        "colab": {
          "base_uri": "https://localhost:8080/",
          "height": 461
        }
      },
      "execution_count": null,
      "outputs": [
        {
          "output_type": "stream",
          "name": "stdout",
          "text": [
            "Epoch  0 MSE:  0.2634994089603424\n",
            "Epoch  1 MSE:  0.25832056999206543\n",
            "Epoch  2 MSE:  0.2610355615615845\n"
          ]
        },
        {
          "output_type": "error",
          "ename": "KeyboardInterrupt",
          "evalue": "ignored",
          "traceback": [
            "\u001b[0;31m---------------------------------------------------------------------------\u001b[0m",
            "\u001b[0;31mKeyboardInterrupt\u001b[0m                         Traceback (most recent call last)",
            "\u001b[0;32m<ipython-input-110-3b0540c636f8>\u001b[0m in \u001b[0;36m<module>\u001b[0;34m\u001b[0m\n\u001b[1;32m     14\u001b[0m \u001b[0;34m\u001b[0m\u001b[0m\n\u001b[1;32m     15\u001b[0m     \u001b[0moptimiser\u001b[0m\u001b[0;34m.\u001b[0m\u001b[0mzero_grad\u001b[0m\u001b[0;34m(\u001b[0m\u001b[0;34m)\u001b[0m\u001b[0;34m\u001b[0m\u001b[0;34m\u001b[0m\u001b[0m\n\u001b[0;32m---> 16\u001b[0;31m     \u001b[0mloss\u001b[0m\u001b[0;34m.\u001b[0m\u001b[0mbackward\u001b[0m\u001b[0;34m(\u001b[0m\u001b[0;34m)\u001b[0m\u001b[0;34m\u001b[0m\u001b[0;34m\u001b[0m\u001b[0m\n\u001b[0m\u001b[1;32m     17\u001b[0m     \u001b[0moptimiser\u001b[0m\u001b[0;34m.\u001b[0m\u001b[0mstep\u001b[0m\u001b[0;34m(\u001b[0m\u001b[0;34m)\u001b[0m\u001b[0;34m\u001b[0m\u001b[0;34m\u001b[0m\u001b[0m\n\u001b[1;32m     18\u001b[0m \u001b[0;34m\u001b[0m\u001b[0m\n",
            "\u001b[0;32m/usr/local/lib/python3.7/dist-packages/torch/_tensor.py\u001b[0m in \u001b[0;36mbackward\u001b[0;34m(self, gradient, retain_graph, create_graph, inputs)\u001b[0m\n\u001b[1;32m    394\u001b[0m                 \u001b[0mcreate_graph\u001b[0m\u001b[0;34m=\u001b[0m\u001b[0mcreate_graph\u001b[0m\u001b[0;34m,\u001b[0m\u001b[0;34m\u001b[0m\u001b[0;34m\u001b[0m\u001b[0m\n\u001b[1;32m    395\u001b[0m                 inputs=inputs)\n\u001b[0;32m--> 396\u001b[0;31m         \u001b[0mtorch\u001b[0m\u001b[0;34m.\u001b[0m\u001b[0mautograd\u001b[0m\u001b[0;34m.\u001b[0m\u001b[0mbackward\u001b[0m\u001b[0;34m(\u001b[0m\u001b[0mself\u001b[0m\u001b[0;34m,\u001b[0m \u001b[0mgradient\u001b[0m\u001b[0;34m,\u001b[0m \u001b[0mretain_graph\u001b[0m\u001b[0;34m,\u001b[0m \u001b[0mcreate_graph\u001b[0m\u001b[0;34m,\u001b[0m \u001b[0minputs\u001b[0m\u001b[0;34m=\u001b[0m\u001b[0minputs\u001b[0m\u001b[0;34m)\u001b[0m\u001b[0;34m\u001b[0m\u001b[0;34m\u001b[0m\u001b[0m\n\u001b[0m\u001b[1;32m    397\u001b[0m \u001b[0;34m\u001b[0m\u001b[0m\n\u001b[1;32m    398\u001b[0m     \u001b[0;32mdef\u001b[0m \u001b[0mregister_hook\u001b[0m\u001b[0;34m(\u001b[0m\u001b[0mself\u001b[0m\u001b[0;34m,\u001b[0m \u001b[0mhook\u001b[0m\u001b[0;34m)\u001b[0m\u001b[0;34m:\u001b[0m\u001b[0;34m\u001b[0m\u001b[0;34m\u001b[0m\u001b[0m\n",
            "\u001b[0;32m/usr/local/lib/python3.7/dist-packages/torch/autograd/__init__.py\u001b[0m in \u001b[0;36mbackward\u001b[0;34m(tensors, grad_tensors, retain_graph, create_graph, grad_variables, inputs)\u001b[0m\n\u001b[1;32m    173\u001b[0m     Variable._execution_engine.run_backward(  # Calls into the C++ engine to run the backward pass\n\u001b[1;32m    174\u001b[0m         \u001b[0mtensors\u001b[0m\u001b[0;34m,\u001b[0m \u001b[0mgrad_tensors_\u001b[0m\u001b[0;34m,\u001b[0m \u001b[0mretain_graph\u001b[0m\u001b[0;34m,\u001b[0m \u001b[0mcreate_graph\u001b[0m\u001b[0;34m,\u001b[0m \u001b[0minputs\u001b[0m\u001b[0;34m,\u001b[0m\u001b[0;34m\u001b[0m\u001b[0;34m\u001b[0m\u001b[0m\n\u001b[0;32m--> 175\u001b[0;31m         allow_unreachable=True, accumulate_grad=True)  # Calls into the C++ engine to run the backward pass\n\u001b[0m\u001b[1;32m    176\u001b[0m \u001b[0;34m\u001b[0m\u001b[0m\n\u001b[1;32m    177\u001b[0m def grad(\n",
            "\u001b[0;31mKeyboardInterrupt\u001b[0m: "
          ]
        }
      ]
    },
    {
      "cell_type": "code",
      "source": [
        "import time\n",
        "\n",
        "hist = np.zeros(num_epochs)\n",
        "start_time = time.time()\n",
        "gru = []\n",
        "final = np.zeros((97,1))\n",
        "\n",
        "for i in range(10):\n",
        "    model = GRU(input_dim=input_dim, hidden_dim=hidden_dim, output_dim=output_dim, num_layers=num_layers)\n",
        "    criterion = torch.nn.MSELoss(reduction='mean')\n",
        "    optimiser = torch.optim.Adam(model.parameters(), lr=0.01)\n",
        "    y_train_pred = None\n",
        "    for t in range(num_epochs):\n",
        "        y_train_pred = model(x_train)\n",
        "\n",
        "        loss = criterion(y_train_pred, y_train_gru)\n",
        "        hist[t] = loss.item()\n",
        "\n",
        "        optimiser.zero_grad()\n",
        "        loss.backward()\n",
        "        optimiser.step()\n",
        "    print(\"Iteration \", i, \"MSE: \", loss.item())\n",
        "    y_test_pred = model(x_test)\n",
        "    final += scaler.inverse_transform(y_test_pred.detach().numpy())\n",
        "\n",
        "final = final/10\n",
        "\n",
        "training_time = time.time()-start_time    \n",
        "print(\"Training time: {}\".format(training_time))"
      ],
      "metadata": {
        "colab": {
          "base_uri": "https://localhost:8080/"
        },
        "id": "A9oo8p46rsxj",
        "outputId": "4b8a8364-7c71-485e-9820-4d3fe58cc43f"
      },
      "execution_count": null,
      "outputs": [
        {
          "output_type": "stream",
          "name": "stdout",
          "text": [
            "Iteration  0 MSE:  0.001902840449474752\n",
            "Iteration  1 MSE:  0.0019052198622375727\n",
            "Iteration  2 MSE:  0.0022944831289350986\n",
            "Iteration  3 MSE:  0.0019387674983590841\n",
            "Iteration  4 MSE:  0.003112735692411661\n",
            "Iteration  5 MSE:  0.002436514478176832\n",
            "Iteration  6 MSE:  0.00383689533919096\n",
            "Iteration  7 MSE:  0.0018645497038960457\n",
            "Iteration  8 MSE:  0.003485357388854027\n",
            "Iteration  9 MSE:  0.0017705467762425542\n",
            "Training time: 413.8047242164612\n"
          ]
        }
      ]
    },
    {
      "cell_type": "code",
      "source": [
        "predict = scaler.inverse_transform(y_train_pred.detach().numpy())\n",
        "original = scaler.inverse_transform(y_train_gru.detach().numpy())"
      ],
      "metadata": {
        "id": "DxlnTbTzFOZY"
      },
      "execution_count": null,
      "outputs": []
    },
    {
      "cell_type": "code",
      "source": [
        "def MSE(y, pred):\n",
        "  return np.mean((y - pred)**2)"
      ],
      "metadata": {
        "id": "gJbZx-xsGrr-"
      },
      "execution_count": null,
      "outputs": []
    },
    {
      "cell_type": "code",
      "source": [
        "MSE(predict, original)"
      ],
      "metadata": {
        "colab": {
          "base_uri": "https://localhost:8080/"
        },
        "id": "loJDotzYG7qX",
        "outputId": "0fdf1473-3751-433b-c86a-8f045c64c992"
      },
      "execution_count": null,
      "outputs": [
        {
          "output_type": "execute_result",
          "data": {
            "text/plain": [
              "24.67243"
            ]
          },
          "metadata": {},
          "execution_count": 22
        }
      ]
    },
    {
      "cell_type": "code",
      "source": [
        "y_test_pred = model(x_test)\n",
        "\n",
        "# invert predictions\n",
        "y_test_pred = scaler.inverse_transform(y_test_pred.detach().numpy())\n",
        "y_test = scaler.inverse_transform(y_test_gru.detach().numpy())"
      ],
      "metadata": {
        "id": "Pwqf2CJwKDAN"
      },
      "execution_count": null,
      "outputs": []
    },
    {
      "cell_type": "code",
      "source": [
        "MSE(y_test, final)"
      ],
      "metadata": {
        "colab": {
          "base_uri": "https://localhost:8080/"
        },
        "id": "GCfgn9pgK25u",
        "outputId": "76c86bd7-e753-4da2-9954-63509f67a529"
      },
      "execution_count": null,
      "outputs": [
        {
          "output_type": "execute_result",
          "data": {
            "text/plain": [
              "101.5859642386852"
            ]
          },
          "metadata": {},
          "execution_count": 24
        }
      ]
    },
    {
      "cell_type": "code",
      "source": [
        "import matplotlib.pyplot as plt"
      ],
      "metadata": {
        "id": "99rP_OoTLXVR"
      },
      "execution_count": null,
      "outputs": []
    },
    {
      "cell_type": "code",
      "source": [
        "y_test = scaler.inverse_transform(y_test_gru.detach().numpy())\n",
        "plt.plot(y_test)\n",
        "plt.plot(final)"
      ],
      "metadata": {
        "colab": {
          "base_uri": "https://localhost:8080/",
          "height": 283
        },
        "id": "Wpm7SYMtLj8v",
        "outputId": "50d1ddc2-2670-4a67-e324-1b921504913f"
      },
      "execution_count": null,
      "outputs": [
        {
          "output_type": "execute_result",
          "data": {
            "text/plain": [
              "[<matplotlib.lines.Line2D at 0x7f418b0c6150>]"
            ]
          },
          "metadata": {},
          "execution_count": 26
        },
        {
          "output_type": "display_data",
          "data": {
            "text/plain": [
              "<Figure size 432x288 with 1 Axes>"
            ],
            "image/png": "[encoded data removed]"
          },
          "metadata": {
            "needs_background": "light"
          }
        }
      ]
    },
    {
      "cell_type": "code",
      "source": [
        "plt.plot(predict)\n",
        "plt.plot(original)"
      ],
      "metadata": {
        "colab": {
          "base_uri": "https://localhost:8080/",
          "height": 283
        },
        "id": "xF7mOtu0KR7c",
        "outputId": "2ac281ab-a8f9-4c32-d152-e74d6ce6342c"
      },
      "execution_count": null,
      "outputs": [
        {
          "output_type": "execute_result",
          "data": {
            "text/plain": [
              "[<matplotlib.lines.Line2D at 0x7f418ac18f10>]"
            ]
          },
          "metadata": {},
          "execution_count": 27
        },
        {
          "output_type": "display_data",
          "data": {
            "text/plain": [
              "<Figure size 432x288 with 1 Axes>"
            ],
            "image/png": "[encoded data removed]"
          },
          "metadata": {
            "needs_background": "light"
          }
        }
      ]
    },
    {
      "cell_type": "markdown",
      "source": [
        "### Trading Strategy"
      ],
      "metadata": {
        "id": "4qv8thrxM-9B"
      }
    },
    {
      "cell_type": "code",
      "source": [
        "start_amt = 10000\n",
        "\n",
        "def buy(money, price):\n",
        "  shares = money / price\n",
        "  return shares\n",
        "\n",
        "def sell(shares, price, prev_amt):\n",
        "  money = shares * price\n",
        "  if money > prev_amt:\n",
        "    money = money - 0.25 * (money - prev_amt)\n",
        "  return money\n",
        "\n",
        "def trading_strategy(amt, pred, true):\n",
        "  starting_amt = amt\n",
        "  holding = False\n",
        "  for i in range(len(pred)-1):\n",
        "    if pred[i+1] > pred[i] and not holding:\n",
        "      shares = buy(amt, true[i])\n",
        "      prev_amt = amt\n",
        "      amt = 0\n",
        "      holding = True\n",
        "    elif pred[i+1] < pred[i] and holding:\n",
        "      amt = sell(shares, true[i], prev_amt)\n",
        "      shares = 0\n",
        "      holding = False\n",
        "\n",
        "  buyandhold = buy(starting_amt, true[0])\n",
        "  buyandhold = sell(buyandhold, true[-1], starting_amt)\n",
        "\n",
        "  if amt == 0:\n",
        "    amt = sell(shares, true[-1])\n",
        "\n",
        "  return amt, buyandhold"
      ],
      "metadata": {
        "id": "3DCR2QD2ULwB"
      },
      "execution_count": null,
      "outputs": []
    },
    {
      "cell_type": "code",
      "source": [
        "trading_strategy(start_amt, final.flatten(), y_test.flatten())"
      ],
      "metadata": {
        "id": "jtTKYZjcWivi",
        "outputId": "9fa75bba-b3c9-4df1-802f-7ebbc5b68874",
        "colab": {
          "base_uri": "https://localhost:8080/"
        }
      },
      "execution_count": null,
      "outputs": [
        {
          "output_type": "execute_result",
          "data": {
            "text/plain": [
              "(9729.728401029084, 9565.873158659064)"
            ]
          },
          "metadata": {},
          "execution_count": 35
        }
      ]
    }
  ]
}